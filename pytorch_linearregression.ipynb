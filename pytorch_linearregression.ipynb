{
  "nbformat": 4,
  "nbformat_minor": 0,
  "metadata": {
    "colab": {
      "name": "pytorch_linearregression.ipynb",
      "provenance": [],
      "collapsed_sections": []
    },
    "kernelspec": {
      "name": "python3",
      "display_name": "Python 3"
    },
    "language_info": {
      "name": "python"
    },
    "accelerator": "GPU"
  },
  "cells": [
    {
      "cell_type": "markdown",
      "metadata": {
        "id": "ec63K1GIddKg"
      },
      "source": [
        "                              NAME :  ANJALI SINGH\n",
        "                               ROLL NO.18BTCSE0046\n",
        "                           MACHINE LEARNING :ASSIGNMENT\n",
        "                            PYTORCH LINEAR REGRESSION\n",
        "\n",
        "\n",
        "\n"
      ]
    },
    {
      "cell_type": "code",
      "metadata": {
        "id": "T9I87SXda7oZ"
      },
      "source": [
        "#Import libraries\n",
        "import pandas as pd\n",
        "import numpy as np\n",
        "import matplotlib.pyplot as plt\n",
        "from sklearn.model_selection import train_test_split\n",
        "import torch\n",
        "import torch.nn as nn\n"
      ],
      "execution_count": 1,
      "outputs": []
    },
    {
      "cell_type": "code",
      "metadata": {
        "colab": {
          "base_uri": "https://localhost:8080/",
          "height": 203
        },
        "id": "PMQ-1K2-bNtH",
        "outputId": "209f14cf-ae77-4a7d-ff88-c5fa7e5aff87"
      },
      "source": [
        "#Loading the data set\n",
        "data=pd.read_csv('/content/Salary_Data.csv')\n",
        "#let us try to visualize our data \n",
        "data.head()\n"
      ],
      "execution_count": 2,
      "outputs": [
        {
          "output_type": "execute_result",
          "data": {
            "text/html": [
              "<div>\n",
              "<style scoped>\n",
              "    .dataframe tbody tr th:only-of-type {\n",
              "        vertical-align: middle;\n",
              "    }\n",
              "\n",
              "    .dataframe tbody tr th {\n",
              "        vertical-align: top;\n",
              "    }\n",
              "\n",
              "    .dataframe thead th {\n",
              "        text-align: right;\n",
              "    }\n",
              "</style>\n",
              "<table border=\"1\" class=\"dataframe\">\n",
              "  <thead>\n",
              "    <tr style=\"text-align: right;\">\n",
              "      <th></th>\n",
              "      <th>YearsExperience</th>\n",
              "      <th>Salary</th>\n",
              "    </tr>\n",
              "  </thead>\n",
              "  <tbody>\n",
              "    <tr>\n",
              "      <th>0</th>\n",
              "      <td>1.1</td>\n",
              "      <td>39343</td>\n",
              "    </tr>\n",
              "    <tr>\n",
              "      <th>1</th>\n",
              "      <td>1.3</td>\n",
              "      <td>46205</td>\n",
              "    </tr>\n",
              "    <tr>\n",
              "      <th>2</th>\n",
              "      <td>1.5</td>\n",
              "      <td>37731</td>\n",
              "    </tr>\n",
              "    <tr>\n",
              "      <th>3</th>\n",
              "      <td>2.0</td>\n",
              "      <td>43525</td>\n",
              "    </tr>\n",
              "    <tr>\n",
              "      <th>4</th>\n",
              "      <td>2.2</td>\n",
              "      <td>39891</td>\n",
              "    </tr>\n",
              "  </tbody>\n",
              "</table>\n",
              "</div>"
            ],
            "text/plain": [
              "   YearsExperience  Salary\n",
              "0              1.1   39343\n",
              "1              1.3   46205\n",
              "2              1.5   37731\n",
              "3              2.0   43525\n",
              "4              2.2   39891"
            ]
          },
          "metadata": {
            "tags": []
          },
          "execution_count": 2
        }
      ]
    },
    {
      "cell_type": "code",
      "metadata": {
        "colab": {
          "base_uri": "https://localhost:8080/"
        },
        "id": "4RCZM9ypbeLS",
        "outputId": "5d112b9b-9de5-489b-8ab8-904c2856487b"
      },
      "source": [
        "data.shape"
      ],
      "execution_count": 3,
      "outputs": [
        {
          "output_type": "execute_result",
          "data": {
            "text/plain": [
              "(30, 2)"
            ]
          },
          "metadata": {
            "tags": []
          },
          "execution_count": 3
        }
      ]
    },
    {
      "cell_type": "code",
      "metadata": {
        "colab": {
          "base_uri": "https://localhost:8080/",
          "height": 295
        },
        "id": "X6x96bfBbgey",
        "outputId": "6d154d24-dc9b-48ff-b4d6-f15ce5fc3396"
      },
      "source": [
        "# lets visualize our data\n",
        "import matplotlib.pyplot as plt\n",
        "plt.scatter(data.YearsExperience,data.Salary)\n",
        "plt.xlabel(\"YearsExperience\")\n",
        "plt.ylabel(\"Salary\")\n",
        "plt.title(\"Years Experience VS Salary\")\n",
        "plt.show()"
      ],
      "execution_count": 4,
      "outputs": [
        {
          "output_type": "display_data",
          "data": {
            "image/png": "[encoded data removed]",
            "text/plain": [
              "<Figure size 432x288 with 1 Axes>"
            ]
          },
          "metadata": {
            "tags": [],
            "needs_background": "light"
          }
        }
      ]
    },
    {
      "cell_type": "code",
      "metadata": {
        "id": "ya3A2nMRbhN8"
      },
      "source": [
        "#Splitting the dataset into  training and testing dataset\n",
        "train, test = train_test_split(data,  test_size = 0.2)\n",
        "\n"
      ],
      "execution_count": 5,
      "outputs": []
    },
    {
      "cell_type": "code",
      "metadata": {
        "id": "gq8W07xqbpqO"
      },
      "source": [
        "#Converting training data into tensors for Pytorch\n",
        "X_train = torch.Tensor([[x] for x in list(train.YearsExperience)])\n",
        "y_train = torch.torch.FloatTensor([[x] for x in list(train.Salary)])"
      ],
      "execution_count": 6,
      "outputs": []
    },
    {
      "cell_type": "code",
      "metadata": {
        "id": "VoyX38EPbr_L"
      },
      "source": [
        "#Converting test data into tensors for Pytorch\n",
        "X_test = torch.Tensor([[x] for x in list(test.YearsExperience)])\n",
        "y_test = torch.torch.FloatTensor([[x] for x in list(test.Salary)])"
      ],
      "execution_count": 7,
      "outputs": []
    },
    {
      "cell_type": "code",
      "metadata": {
        "colab": {
          "base_uri": "https://localhost:8080/"
        },
        "id": "KTSE3U6Ibs8H",
        "outputId": "8cdbc59d-6af5-4226-c668-6188ec1f685c"
      },
      "source": [
        "#Data set & Data set Loader\n",
        "from torch.utils.data import TensorDataset\n",
        "train_data=TensorDataset(X_train, y_train)\n",
        "train_data[0:5]"
      ],
      "execution_count": 8,
      "outputs": [
        {
          "output_type": "execute_result",
          "data": {
            "text/plain": [
              "(tensor([[4.0000],\n",
              "         [3.2000],\n",
              "         [4.9000],\n",
              "         [5.1000],\n",
              "         [3.9000]]), tensor([[55794.],\n",
              "         [64445.],\n",
              "         [67938.],\n",
              "         [66029.],\n",
              "         [63218.]]))"
            ]
          },
          "metadata": {
            "tags": []
          },
          "execution_count": 8
        }
      ]
    },
    {
      "cell_type": "code",
      "metadata": {
        "id": "EbuTCfy4bzlJ"
      },
      "source": [
        "# Define data loader\n",
        "from torch.utils.data import DataLoader\n",
        "batch_size = 5\n",
        "train_dl = DataLoader(train_data, batch_size, shuffle=True)"
      ],
      "execution_count": 9,
      "outputs": []
    },
    {
      "cell_type": "code",
      "metadata": {
        "colab": {
          "base_uri": "https://localhost:8080/"
        },
        "id": "f9Nss8FNb3NB",
        "outputId": "fd58ea75-6307-4a5a-9ea6-e659c119ab22"
      },
      "source": [
        "# Define model\n",
        "model = nn.Linear(1, 1) # nn.Linear(in_features,out_features)\n",
        "print(model.weight)\n",
        "print(model.bias)"
      ],
      "execution_count": 10,
      "outputs": [
        {
          "output_type": "stream",
          "text": [
            "Parameter containing:\n",
            "tensor([[-0.1949]], requires_grad=True)\n",
            "Parameter containing:\n",
            "tensor([-0.9428], requires_grad=True)\n"
          ],
          "name": "stdout"
        }
      ]
    },
    {
      "cell_type": "code",
      "metadata": {
        "colab": {
          "base_uri": "https://localhost:8080/"
        },
        "id": "JOh4ueXDb8Gi",
        "outputId": "fcd9aa02-7d94-42a1-d985-cf409884fb28"
      },
      "source": [
        "# printing the model Parameters\n",
        "print(list(model.parameters()))"
      ],
      "execution_count": 11,
      "outputs": [
        {
          "output_type": "stream",
          "text": [
            "[Parameter containing:\n",
            "tensor([[-0.1949]], requires_grad=True), Parameter containing:\n",
            "tensor([-0.9428], requires_grad=True)]\n"
          ],
          "name": "stdout"
        }
      ]
    },
    {
      "cell_type": "code",
      "metadata": {
        "id": "BGPgs40qb-4Y"
      },
      "source": [
        "#Define the loss function\n",
        "loss_fun = nn.MSELoss()"
      ],
      "execution_count": 12,
      "outputs": []
    },
    {
      "cell_type": "code",
      "metadata": {
        "id": "x_UYnjyVcDBJ"
      },
      "source": [
        "# Define SGD optimizer with learning rate 0.01\n",
        "optimizer = torch.optim.SGD(model.parameters(), lr=0.01)"
      ],
      "execution_count": 13,
      "outputs": []
    },
    {
      "cell_type": "code",
      "metadata": {
        "colab": {
          "base_uri": "https://localhost:8080/"
        },
        "id": "Ntk0ZCEUcFoz",
        "outputId": "c58ffa39-e33b-478c-cddc-4797574f7d6b"
      },
      "source": [
        "# Utility function to train the model\n",
        "def lrmodel(num_epochs, model, loss_fun, optimizer, train_dl):\n",
        "    \n",
        "    # Repeat for given number of epochs\n",
        "    for epoch in range(num_epochs):\n",
        "        \n",
        "        # Train with batches of data\n",
        "        for xb,yb in train_dl:\n",
        "            \n",
        "            # 1. Generate predictions\n",
        "            pred = model(xb)\n",
        "            \n",
        "            # 2. Calculate loss\n",
        "            loss = loss_fun(pred, yb)\n",
        "            \n",
        "            # 3. Compute gradients\n",
        "            loss.backward()\n",
        "            \n",
        "            # 4. Update parameters using gradients\n",
        "            optimizer.step()\n",
        "            \n",
        "            # 5. Reset the gradients to zero\n",
        "            optimizer.zero_grad()\n",
        "        \n",
        "        # Print the progress\n",
        "        if (epoch+1) % 10 == 0:\n",
        "            print('Epoch [{}/{}], Loss: {:.4f}'.format(epoch+1, num_epochs, loss.item()))\n",
        "#Training for 100 epochs\n",
        "num_epochs=100\n",
        "lrmodel(num_epochs, model, loss_fun, optimizer, train_dl)\n",
        "# Generate predictions\n",
        "preds = model(X_train)\n",
        "preds\n",
        "# Compare with targets\n",
        "y_train"
      ],
      "execution_count": 14,
      "outputs": [
        {
          "output_type": "stream",
          "text": [
            "Epoch [10/100], Loss: 261542672.0000\n",
            "Epoch [20/100], Loss: 75091472.0000\n",
            "Epoch [30/100], Loss: 32221832.0000\n",
            "Epoch [40/100], Loss: 88051128.0000\n",
            "Epoch [50/100], Loss: 73669360.0000\n",
            "Epoch [60/100], Loss: 51497724.0000\n",
            "Epoch [70/100], Loss: 44681472.0000\n",
            "Epoch [80/100], Loss: 37381928.0000\n",
            "Epoch [90/100], Loss: 51177900.0000\n",
            "Epoch [100/100], Loss: 12251484.0000\n"
          ],
          "name": "stdout"
        },
        {
          "output_type": "execute_result",
          "data": {
            "text/plain": [
              "tensor([[ 55794.],\n",
              "        [ 64445.],\n",
              "        [ 67938.],\n",
              "        [ 66029.],\n",
              "        [ 63218.],\n",
              "        [ 39891.],\n",
              "        [122391.],\n",
              "        [116969.],\n",
              "        [ 83088.],\n",
              "        [ 54445.],\n",
              "        [ 61111.],\n",
              "        [105582.],\n",
              "        [ 81363.],\n",
              "        [ 60150.],\n",
              "        [ 57189.],\n",
              "        [ 43525.],\n",
              "        [ 98273.],\n",
              "        [121872.],\n",
              "        [ 57081.],\n",
              "        [ 56957.],\n",
              "        [ 46205.],\n",
              "        [101302.],\n",
              "        [ 39343.],\n",
              "        [113812.]])"
            ]
          },
          "metadata": {
            "tags": []
          },
          "execution_count": 14
        }
      ]
    },
    {
      "cell_type": "code",
      "metadata": {
        "colab": {
          "base_uri": "https://localhost:8080/"
        },
        "id": "iZPrOa_LcPQX",
        "outputId": "23cd7951-f4d2-4c09-fc9a-0248d7a27441"
      },
      "source": [
        "#Predicting for X_test\n",
        "y_pred_test = model(X_test)\n",
        "#Converting predictions from tensor objects into a list\n",
        "y_pred_test = [y_pred_test[x].item() for x in range(len(y_pred_test))]\n",
        "# Comparing Actual and predicted values\n",
        "df = {}\n",
        "df['Actual Observation'] = y_test\n",
        "df['Predicted Salary'] = y_pred_test\n",
        "df = pd.DataFrame(df)\n",
        "print(df)"
      ],
      "execution_count": 15,
      "outputs": [
        {
          "output_type": "stream",
          "text": [
            "   Actual Observation  Predicted Salary\n",
            "0   (tensor(91738.),)      88920.765625\n",
            "1   (tensor(37731.),)      37297.015625\n",
            "2   (tensor(56642.),)      50933.476562\n",
            "3  (tensor(112635.),)     116193.695312\n",
            "4   (tensor(93940.),)      81128.500000\n",
            "5  (tensor(109431.),)     107427.390625\n"
          ],
          "name": "stdout"
        }
      ]
    },
    {
      "cell_type": "code",
      "metadata": {
        "id": "U-5mUispcot5"
      },
      "source": [
        ""
      ],
      "execution_count": null,
      "outputs": []
    }
  ]
}